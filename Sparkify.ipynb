{
 "cells": [
  {
   "cell_type": "markdown",
   "metadata": {},
   "source": [
    "# Capstone Project \n",
    "\n",
    "## Predict Sparkify User Churn  \n",
    "\n",
    "In this notebook we will analyse and use a small subset (128MB) of the full dataset available (12GB) for this project. The analysis part is done to get familiar with the data and to make decisions on what features to use for predicting churn. In the first part of the notebook standard analysis is performed, the second part is where additional features are created, the third and last part contains the machine learning model creation, opptimazation and evaluation.  "
   ]
  },
  {
   "cell_type": "code",
   "execution_count": 1,
   "metadata": {},
   "outputs": [
    {
     "name": "stdout",
     "output_type": "stream",
     "text": [
      "Requirement already satisfied: pyspark in c:\\users\\kate\\anaconda\\lib\\site-packages (3.0.1)\n",
      "Requirement already satisfied: py4j==0.10.9 in c:\\users\\kate\\anaconda\\lib\\site-packages (from pyspark) (0.10.9)\n"
     ]
    }
   ],
   "source": [
    "! pip install pyspark"
   ]
  },
  {
   "cell_type": "code",
   "execution_count": 1,
   "metadata": {},
   "outputs": [],
   "source": [
    "# import libraries\n",
    "from pyspark.sql import SparkSession\n",
    "from pyspark.sql.functions import * \n",
    "from pyspark.sql.functions import sum as Fsum, mean\n",
    "from pyspark.sql.window import Window\n",
    "from pyspark.sql.types import IntegerType, StructType, StructField, StringType, LongType, DateType, DoubleType\n",
    "\n",
    "from pyspark.ml.feature import VectorAssembler, MinMaxScaler\n",
    "from pyspark.ml import Pipeline\n",
    "from pyspark.ml.linalg import Vectors\n",
    "from pyspark.ml.feature import VectorAssembler\n",
    "from pyspark.ml.evaluation import BinaryClassificationEvaluator\n",
    "from pyspark.ml.tuning import ParamGridBuilder, CrossValidator\n",
    "from pyspark.ml.classification import LogisticRegression, LinearSVC, RandomForestClassifier \n",
    "from pyspark.ml.tuning import ParamGridBuilder, CrossValidator\n",
    "\n",
    "import datetime\n",
    "import pandas as pd\n",
    "import seaborn as sns\n",
    "from sklearn.metrics import f1_score, recall_score, precision_score, confusion_matrix\n",
    "import matplotlib.pyplot as plt\n"
   ]
  },
  {
   "cell_type": "code",
   "execution_count": 2,
   "metadata": {},
   "outputs": [],
   "source": [
    "# create a Spark session\n",
    "spark = SparkSession \\\n",
    "    .builder \\\n",
    "    .appName(\"Data Frames practice\") \\\n",
    "    .getOrCreate()"
   ]
  },
  {
   "cell_type": "markdown",
   "metadata": {},
   "source": [
    "# Load and clean the data\n",
    "\n",
    "Lets start by importing the data and having a look at it. \n",
    "We will start by looking at what column there are, their types e.i. categorcal or numerical, and how many values are missing or are empty. "
   ]
  },
  {
   "cell_type": "code",
   "execution_count": 4,
   "metadata": {},
   "outputs": [],
   "source": [
    "# load the data \n",
    "data_original = spark.read.json('mini_sparkify_event_data.json')"
   ]
  },
  {
   "cell_type": "code",
   "execution_count": 5,
   "metadata": {},
   "outputs": [
    {
     "name": "stdout",
     "output_type": "stream",
     "text": [
      "root\n",
      " |-- artist: string (nullable = true)\n",
      " |-- auth: string (nullable = true)\n",
      " |-- firstName: string (nullable = true)\n",
      " |-- gender: string (nullable = true)\n",
      " |-- itemInSession: long (nullable = true)\n",
      " |-- lastName: string (nullable = true)\n",
      " |-- length: double (nullable = true)\n",
      " |-- level: string (nullable = true)\n",
      " |-- location: string (nullable = true)\n",
      " |-- method: string (nullable = true)\n",
      " |-- page: string (nullable = true)\n",
      " |-- registration: long (nullable = true)\n",
      " |-- sessionId: long (nullable = true)\n",
      " |-- song: string (nullable = true)\n",
      " |-- status: long (nullable = true)\n",
      " |-- ts: long (nullable = true)\n",
      " |-- userAgent: string (nullable = true)\n",
      " |-- userId: string (nullable = true)\n",
      "\n"
     ]
    }
   ],
   "source": [
    "data_original.printSchema()"
   ]
  },
  {
   "cell_type": "code",
   "execution_count": 6,
   "metadata": {},
   "outputs": [
    {
     "data": {
      "text/plain": [
       "{'artist': 58392,\n",
       " 'auth': 0,\n",
       " 'firstName': 8346,\n",
       " 'gender': 8346,\n",
       " 'itemInSession': 0,\n",
       " 'lastName': 8346,\n",
       " 'length': 58392,\n",
       " 'level': 0,\n",
       " 'location': 8346,\n",
       " 'method': 0,\n",
       " 'page': 0,\n",
       " 'registration': 8346,\n",
       " 'sessionId': 0,\n",
       " 'song': 58392,\n",
       " 'status': 0,\n",
       " 'ts': 0,\n",
       " 'userAgent': 8346,\n",
       " 'userId': 0}"
      ]
     },
     "execution_count": 6,
     "metadata": {},
     "output_type": "execute_result"
    }
   ],
   "source": [
    "# Check number of null values \n",
    "Dict_Null = {col:data_original.filter(data_original[col].isNull()).count() for col in data_original.columns}\n",
    "Dict_Null"
   ]
  },
  {
   "cell_type": "code",
   "execution_count": 7,
   "metadata": {},
   "outputs": [
    {
     "data": {
      "text/plain": [
       "{'artist': 0,\n",
       " 'auth': 0,\n",
       " 'firstName': 0,\n",
       " 'gender': 0,\n",
       " 'itemInSession': 0,\n",
       " 'lastName': 0,\n",
       " 'length': 0,\n",
       " 'level': 0,\n",
       " 'location': 0,\n",
       " 'method': 0,\n",
       " 'page': 0,\n",
       " 'registration': 0,\n",
       " 'sessionId': 0,\n",
       " 'song': 0,\n",
       " 'status': 0,\n",
       " 'ts': 0,\n",
       " 'userAgent': 0,\n",
       " 'userId': 8346}"
      ]
     },
     "execution_count": 7,
     "metadata": {},
     "output_type": "execute_result"
    }
   ],
   "source": [
    "# check number of empty strings \n",
    "Dict_empty = {column:data_original.filter(col(column) == '').count() for column in data_original.columns}\n",
    "Dict_empty"
   ]
  },
  {
   "cell_type": "code",
   "execution_count": 8,
   "metadata": {},
   "outputs": [
    {
     "name": "stdout",
     "output_type": "stream",
     "text": [
      "+-------------------+\n",
      "|               page|\n",
      "+-------------------+\n",
      "|               Home|\n",
      "|              About|\n",
      "|Submit Registration|\n",
      "|              Login|\n",
      "|           Register|\n",
      "|               Help|\n",
      "|              Error|\n",
      "+-------------------+\n",
      "\n"
     ]
    }
   ],
   "source": [
    "# It looks like the missing Ids are for not yet logged in or unregistered users, lets check:\n",
    "data_original.filter(col('userID') == '').select('page').distinct().show()"
   ]
  },
  {
   "cell_type": "code",
   "execution_count": 9,
   "metadata": {},
   "outputs": [
    {
     "data": {
      "text/plain": [
       "{'artist': 17656,\n",
       " 'auth': 4,\n",
       " 'firstName': 190,\n",
       " 'gender': 3,\n",
       " 'itemInSession': 1322,\n",
       " 'lastName': 174,\n",
       " 'length': 14866,\n",
       " 'level': 2,\n",
       " 'location': 115,\n",
       " 'method': 2,\n",
       " 'page': 22,\n",
       " 'registration': 226,\n",
       " 'sessionId': 2354,\n",
       " 'song': 58481,\n",
       " 'status': 3,\n",
       " 'ts': 277447,\n",
       " 'userAgent': 57,\n",
       " 'userId': 226}"
      ]
     },
     "execution_count": 9,
     "metadata": {},
     "output_type": "execute_result"
    }
   ],
   "source": [
    "# check number of distinct values in every column\n",
    "Dict_distinct = {column:data_original.select(col(column)).distinct().count() for column in data_original.columns}\n",
    "Dict_distinct"
   ]
  },
  {
   "cell_type": "code",
   "execution_count": 10,
   "metadata": {},
   "outputs": [
    {
     "data": {
      "text/plain": [
       "286500"
      ]
     },
     "execution_count": 10,
     "metadata": {},
     "output_type": "execute_result"
    }
   ],
   "source": [
    "# check number of data point in original dataset\n",
    "count_original = data_original.count()\n",
    "count_original"
   ]
  },
  {
   "cell_type": "code",
   "execution_count": 11,
   "metadata": {},
   "outputs": [
    {
     "name": "stdout",
     "output_type": "stream",
     "text": [
      "+--------------+---------+---------+------+-------------+--------+---------+-----+---------------+------+--------+-------------+---------+---------+------+-------------+--------------------+------+\n",
      "|        artist|     auth|firstName|gender|itemInSession|lastName|   length|level|       location|method|    page| registration|sessionId|     song|status|           ts|           userAgent|userId|\n",
      "+--------------+---------+---------+------+-------------+--------+---------+-----+---------------+------+--------+-------------+---------+---------+------+-------------+--------------------+------+\n",
      "|Martha Tilston|Logged In|    Colin|     M|           50| Freeman|277.89016| paid|Bakersfield, CA|   PUT|NextSong|1538173362000|       29|Rockpools|   200|1538352117000|Mozilla/5.0 (Wind...|    30|\n",
      "+--------------+---------+---------+------+-------------+--------+---------+-----+---------------+------+--------+-------------+---------+---------+------+-------------+--------------------+------+\n",
      "only showing top 1 row\n",
      "\n"
     ]
    }
   ],
   "source": [
    "# Have a look at the first line of the dataset\n",
    "data_original.show(1)"
   ]
  },
  {
   "cell_type": "code",
   "execution_count": 12,
   "metadata": {},
   "outputs": [
    {
     "name": "stdout",
     "output_type": "stream",
     "text": [
      "+--------------------+-----+\n",
      "|              artist|count|\n",
      "+--------------------+-----+\n",
      "|                null|58392|\n",
      "|       Kings Of Leon| 1841|\n",
      "|            Coldplay| 1813|\n",
      "|Florence + The Ma...| 1236|\n",
      "|       Dwight Yoakam| 1135|\n",
      "|            BjÃÂ¶rk| 1133|\n",
      "|      The Black Keys| 1125|\n",
      "|                Muse| 1090|\n",
      "|       Justin Bieber| 1044|\n",
      "|        Jack Johnson| 1007|\n",
      "|              Eminem|  953|\n",
      "|           Radiohead|  884|\n",
      "|     Alliance Ethnik|  876|\n",
      "|               Train|  854|\n",
      "|        Taylor Swift|  840|\n",
      "|         OneRepublic|  828|\n",
      "|         The Killers|  822|\n",
      "|         Linkin Park|  787|\n",
      "|         Evanescence|  781|\n",
      "|            Harmonia|  729|\n",
      "+--------------------+-----+\n",
      "only showing top 20 rows\n",
      "\n"
     ]
    }
   ],
   "source": [
    "# looks like there are quite a lot of missing artists in the data\n",
    "data_original.groupby('artist').count().sort(col('count').desc()).show()"
   ]
  },
  {
   "cell_type": "markdown",
   "metadata": {},
   "source": [
    "It looks like there are few missing values in the most important columns i.e. userId and sessionId. The missing values mean that the person who visited the page was not a registerd customer or did not login at the time. Considering the aim of this project, it does not make sense to keep those logs in the data, lets get rid of them. Let's also add a column for when a 'churn' happens. Here churn is defined as either getting to the 'Cancellation Confirmation' or 'Submit Downgrade' pages. \n",
    "Another thing we can do already is get rid of the ts (timestamp) column, its not intuative and it would be easier to manipulate the data if we unix timeformat instead. \n",
    "Finally, let's only keep columns we can be interested as they could enfluence a user to churn or stay. "
   ]
  },
  {
   "cell_type": "code",
   "execution_count": 13,
   "metadata": {},
   "outputs": [],
   "source": [
    "def clean_and_complete_data(data = data_original):\n",
    "    '''\n",
    "    input: RDD dataset\n",
    "\n",
    "    output: dataset with added churn and date columns\n",
    "\n",
    "    Drops rows where userId = '' as those users are not logged into the service\n",
    "    as well as adds a churn column where the user visits the pages 'Cancellation confirmation'\n",
    "    or 'submit Downgrade' \n",
    "    '''\n",
    "    check_churn = udf(lambda ischurn: int((ischurn == 'Cancellation Confirmation') | \\\n",
    "                  (ischurn == 'Submit Downgrade')), IntegerType())\n",
    "    data = data.filter(col('userId') != '') \\\n",
    "           .withColumn('churn', check_churn(col('page'))) \\\n",
    "           .withColumn('ts', data.ts/1000.0) \\\n",
    "           .withColumn('date', from_unixtime(\"ts\", \"yyyy-MM-dd HH:mm:ss\")) \\\n",
    "           .withColumn(\"date\", col(\"date\").cast(\"timestamp\"))\n",
    "    \n",
    "    \n",
    "    data = data.select('churn', 'date', 'status', 'userId', 'page', 'level', 'gender', 'sessionId', 'artist')\n",
    "    return data"
   ]
  },
  {
   "cell_type": "code",
   "execution_count": 14,
   "metadata": {},
   "outputs": [
    {
     "name": "stdout",
     "output_type": "stream",
     "text": [
      "Number of rows that were dropped: 8346\n"
     ]
    }
   ],
   "source": [
    "# clean data and add churn and date column\n",
    "data = clean_and_complete_data()\n",
    "print('Number of rows that were dropped: {}'.format(count_original - data.count()))"
   ]
  },
  {
   "cell_type": "code",
   "execution_count": 15,
   "metadata": {},
   "outputs": [
    {
     "name": "stdout",
     "output_type": "stream",
     "text": [
      "+-------------------------+------+\n",
      "|page                     |count |\n",
      "+-------------------------+------+\n",
      "|Cancellation Confirmation|52    |\n",
      "|Cancel                   |52    |\n",
      "|Submit Downgrade         |63    |\n",
      "|Submit Upgrade           |159   |\n",
      "|Error                    |252   |\n",
      "|Save Settings            |310   |\n",
      "|About                    |495   |\n",
      "|Upgrade                  |499   |\n",
      "|Help                     |1454  |\n",
      "|Settings                 |1514  |\n",
      "|Downgrade                |2055  |\n",
      "|Thumbs Down              |2546  |\n",
      "|Logout                   |3226  |\n",
      "|Roll Advert              |3933  |\n",
      "|Add Friend               |4277  |\n",
      "|Add to Playlist          |6526  |\n",
      "|Home                     |10082 |\n",
      "|Thumbs Up                |12551 |\n",
      "|NextSong                 |228108|\n",
      "+-------------------------+------+\n",
      "\n"
     ]
    }
   ],
   "source": [
    "\n",
    "data.groupBy('page').count().sort('count').show(20,False)"
   ]
  },
  {
   "cell_type": "markdown",
   "metadata": {},
   "source": [
    "# Exploratory Data Analysis\n",
    "\n",
    "In the following part we will explore the dataset in detail. To make describing the data easier, the columns are grouped based on type. The catergorical data is plotted and while the describe() function in pyspark is used on the numerical data.  "
   ]
  },
  {
   "cell_type": "code",
   "execution_count": 16,
   "metadata": {},
   "outputs": [
    {
     "name": "stdout",
     "output_type": "stream",
     "text": [
      "        min occurences of same value  max occurences of same value\n",
      "userId                             6                          9632\n",
      "page                              52                        228108\n",
      "level                          55721                        222433\n",
      "gender                        123576                        154578\n"
     ]
    }
   ],
   "source": [
    "# Describe categorical data\n",
    "# show most common and least common\n",
    "categorical_columns = ['userId', 'page', 'level', 'gender']\n",
    "min_max_dict = {column: data.groupBy(column).count()\\\n",
    "                .agg(min('count').alias('min'), max('count').alias('max')).collect()[0]\\\n",
    "                for column in categorical_columns}\n",
    "\n",
    "print(pd.DataFrame(min_max_dict, index = ['min occurences of same value', \\\n",
    "                                          'max occurences of same value']).transpose())"
   ]
  },
  {
   "cell_type": "code",
   "execution_count": 17,
   "metadata": {},
   "outputs": [
    {
     "data": {
      "image/png": "[encoded data removed]",
      "text/plain": [
       "<Figure size 432x288 with 1 Axes>"
      ]
     },
     "metadata": {
      "needs_background": "light"
     },
     "output_type": "display_data"
    },
    {
     "data": {
      "image/png": "[encoded data removed]",
      "text/plain": [
       "<Figure size 432x288 with 1 Axes>"
      ]
     },
     "metadata": {
      "needs_background": "light"
     },
     "output_type": "display_data"
    },
    {
     "data": {
      "image/png": "[encoded data removed]",
      "text/plain": [
       "<Figure size 432x288 with 1 Axes>"
      ]
     },
     "metadata": {
      "needs_background": "light"
     },
     "output_type": "display_data"
    }
   ],
   "source": [
    "# plot distribution of values count over each distinct value in columns with less than 30 distinct values\n",
    "\n",
    "for column in categorical_columns: \n",
    "    if data.select(column).distinct().count() < 30: \n",
    "        count_df = data.groupBy(col(column)).count().sort('count').toPandas()\n",
    "        count_df.plot.bar(x = column, y = 'count')"
   ]
  },
  {
   "cell_type": "code",
   "execution_count": 18,
   "metadata": {},
   "outputs": [
    {
     "data": {
      "text/plain": [
       "<matplotlib.axes._subplots.AxesSubplot at 0x1d6527306c8>"
      ]
     },
     "execution_count": 18,
     "metadata": {},
     "output_type": "execute_result"
    },
    {
     "data": {
      "image/png": "[encoded data removed]",
      "text/plain": [
       "<Figure size 432x288 with 1 Axes>"
      ]
     },
     "metadata": {
      "needs_background": "light"
     },
     "output_type": "display_data"
    }
   ],
   "source": [
    "# Lets plot the 5 most common artists only the many and long different artist names will cause pandas to crash\n",
    "artist_count = data.groupBy(col('artist')).count().sort('count').toPandas().iloc[-5:]\n",
    "artist_count.plot.bar(x = 'artist', y = 'count')"
   ]
  },
  {
   "cell_type": "markdown",
   "metadata": {},
   "source": [
    "# Exploratory Churn Data Analysis\n",
    "\n",
    "The following exploratory data analysis will help us understand the behavior for users who stayed vs users who churned. First lets start by seeing how many churned vs stayed. "
   ]
  },
  {
   "cell_type": "code",
   "execution_count": 19,
   "metadata": {},
   "outputs": [
    {
     "name": "stdout",
     "output_type": "stream",
     "text": [
      "Number of unique users in dataset: 225\n",
      "Number of users that churned: 92\n",
      "Number of users that stayed: 133\n"
     ]
    }
   ],
   "source": [
    "# check total number of userIds in database\n",
    "all_userIds = data.select('userId').distinct()\n",
    "print('Number of unique users in dataset: {}'.format(all_userIds.count()))\n",
    "\n",
    "# get churned userIds \n",
    "churned_userIds = data.filter('churn == 1').select('userId').distinct()\n",
    "number_churned_users = churned_userIds.count()\n",
    "print('Number of users that churned: {}'.format(number_churned_users))\n",
    "\n",
    "# create stayed users dataframe\n",
    "stayed_usersIds = data.select('userId').distinct().subtract(churned_userIds)\n",
    "number_stayed_users = stayed_usersIds.count()\n",
    "print('Number of users that stayed: {}'.format(number_stayed_users))"
   ]
  },
  {
   "cell_type": "markdown",
   "metadata": {},
   "source": [
    "## Now lets see how the two different groups differ. lets start by creating two different datasets."
   ]
  },
  {
   "cell_type": "code",
   "execution_count": 20,
   "metadata": {},
   "outputs": [],
   "source": [
    "# create churned and stayed datasets \n",
    "churned_users = churned_userIds.join(data,['userId'], how = 'left')\n",
    "stayed_users = stayed_usersIds.join(data,['userId'], how = 'left')"
   ]
  },
  {
   "cell_type": "code",
   "execution_count": 21,
   "metadata": {},
   "outputs": [],
   "source": [
    "# define function to create dataframe with userId, sessionId, churn and session duration. \n",
    "def get_churn_user_session_duration_df(data):\n",
    "    user_session_duration_df = data.groupby('userId', 'sessionId', 'churn')\\\n",
    "    .agg(min(col('date')).alias('sessionStart'), max(col('date')).alias('sessionEnd'))\\\n",
    "    .withColumn('duration in hours', (col('sessionEnd').cast('long')- col('sessionStart').cast('double'))/360)\n",
    "    \n",
    "    return user_session_duration_df\n",
    "\n",
    "# define function to create churn session order dataframe where the user's\n",
    "# first session will have number 0, second session nr 1, etc.\n",
    "def get_churn_session_number_df(): \n",
    "    user_session_duration_df = get_churn_user_session_duration_df(data)\n",
    "    time_df = user_session_duration_df.withColumn('sessionId', user_session_duration_df.sessionId.cast('double'))\n",
    "    window = Window.partitionBy('userId').orderBy(col('sessionStart'))\n",
    "    churn_session = time_df.withColumn('session_nr', row_number().over(window))\n",
    "\n",
    "    return churn_session\n"
   ]
  },
  {
   "cell_type": "code",
   "execution_count": 22,
   "metadata": {},
   "outputs": [
    {
     "data": {
      "text/plain": [
       "<matplotlib.axes._subplots.AxesSubplot at 0x1d6526a98c8>"
      ]
     },
     "execution_count": 22,
     "metadata": {},
     "output_type": "execute_result"
    },
    {
     "data": {
      "image/png": "[encoded data removed]",
      "text/plain": [
       "<Figure size 432x288 with 1 Axes>"
      ]
     },
     "metadata": {
      "needs_background": "light"
     },
     "output_type": "display_data"
    }
   ],
   "source": [
    "# get session number datafreame for churned users\n",
    "churn_session = get_churn_session_number_df()\n",
    "\n",
    "# plot to see after how many sessions the users usually churn \n",
    "churns = churn_session.filter(churn_session.churn == '1').select('session_nr')\n",
    "churns.toPandas().plot.hist(bins = 20, title = 'Number of sessions before churn')"
   ]
  },
  {
   "cell_type": "code",
   "execution_count": 23,
   "metadata": {},
   "outputs": [
    {
     "name": "stdout",
     "output_type": "stream",
     "text": [
      "+-------+------------------+\n",
      "|summary|        session_nr|\n",
      "+-------+------------------+\n",
      "|  count|               114|\n",
      "|   mean|14.236842105263158|\n",
      "| stddev| 14.63194627813925|\n",
      "|    min|                 2|\n",
      "|    max|                78|\n",
      "+-------+------------------+\n",
      "\n"
     ]
    }
   ],
   "source": [
    "# describe number of sessions before churn \n",
    "churns.describe().show()"
   ]
  },
  {
   "cell_type": "code",
   "execution_count": 24,
   "metadata": {},
   "outputs": [
    {
     "name": "stdout",
     "output_type": "stream",
     "text": [
      "25% of the users will churn after [5.0] sessions or less.\n",
      "50% of the users will churn after [9.0] sessions or less.\n",
      "75% of the users will churn after [14.0] sessions or less.\n"
     ]
    }
   ],
   "source": [
    "print('25% of the users will churn after {} sessions or less.'.format(churns.approxQuantile('session_nr', [0.25], 0.05)))\n",
    "print('50% of the users will churn after {} sessions or less.'.format(churns.approxQuantile('session_nr', [0.5], 0.05)))\n",
    "print('75% of the users will churn after {} sessions or less.'.format(churns.approxQuantile('session_nr', [0.75], 0.05)))\n"
   ]
  },
  {
   "cell_type": "markdown",
   "metadata": {},
   "source": [
    "## Lets see if the average session duration as well as total subscription duration differes between the two groups"
   ]
  },
  {
   "cell_type": "code",
   "execution_count": 26,
   "metadata": {},
   "outputs": [],
   "source": [
    "def get_user_session_duration_df(data):\n",
    "    '''\n",
    "    input: RDD dataframe \n",
    "\n",
    "    output: subsciption duration dataframe \n",
    "\n",
    "    description: \n",
    "    Calculates how long a user has been using the service in\n",
    "    hours\n",
    "    and adds churn column.\n",
    "    '''\n",
    "    time_df = data.groupby('userId', 'sessionId', 'churn')\\\n",
    "    .agg(min(col('date')).alias('sessionStart'), max(col('date')).alias('sessionEnd'))\\\n",
    "    .withColumn('duration in hours', (col('sessionEnd').cast('long')- col('sessionStart').cast('double'))/360)\n",
    "    return time_df\n"
   ]
  },
  {
   "cell_type": "code",
   "execution_count": 27,
   "metadata": {},
   "outputs": [],
   "source": [
    "# calculated the difference between the two user datasets when normalalized by subscription duration\n",
    "\n",
    "# create dataframe with the subscription duration of each churned user\n",
    "churn_user_session_duration_df = get_user_session_duration_df(churned_users)\n",
    "stayed_user_session_duration_df = get_user_session_duration_df(stayed_users)\n",
    "\n",
    "# sum up all session durations to get total subscription length\n",
    "churn_user_subscription_length_df = churn_user_session_duration_df.groupBy('userId')\\\n",
    "                                .agg(mean('duration in hours').alias('average_duration'),\n",
    "                                     Fsum('duration in hours').alias('total_duration'))\\\n",
    "                                .sort('total_duration').toPandas()\n",
    "\n",
    "stayed_user_subscription_length_df = stayed_user_session_duration_df.groupBy('userId')\\\n",
    "                                .agg(mean('duration in hours').alias('average_duration'),\n",
    "                                     Fsum('duration in hours').alias('total_duration'))\\\n",
    "                                .sort('total_duration').toPandas()"
   ]
  },
  {
   "cell_type": "code",
   "execution_count": 28,
   "metadata": {},
   "outputs": [
    {
     "data": {
      "text/plain": [
       "<matplotlib.legend.Legend at 0x1d652bdb288>"
      ]
     },
     "execution_count": 28,
     "metadata": {},
     "output_type": "execute_result"
    },
    {
     "data": {
      "image/png": "[encoded data removed]",
      "text/plain": [
       "<Figure size 1152x360 with 2 Axes>"
      ]
     },
     "metadata": {
      "needs_background": "light"
     },
     "output_type": "display_data"
    }
   ],
   "source": [
    "average_duration = [churn_user_subscription_length_df['average_duration'], stayed_user_subscription_length_df['average_duration']]\n",
    "total_duration = [churn_user_subscription_length_df['total_duration'], stayed_user_subscription_length_df['total_duration']]\n",
    "\n",
    "fig = plt.figure(figsize=(16,5))\n",
    "ax1 = fig.add_subplot(121)\n",
    "ax2 = fig.add_subplot(122)\n",
    "\n",
    "\n",
    "ax1.hist(average_duration, 10, histtype= 'bar', label = ['churned', 'stayed'])\n",
    "ax1.title.set_text('Average session duration')\n",
    "ax1.legend(['churned', 'stayed'])\n",
    "\n",
    "\n",
    "ax2.hist(total_duration, 10, histtype= 'bar', label = ['churned', 'stayed'])\n",
    "ax2.title.set_text('Total subscription duration')\n",
    "ax2.legend(['churned', 'stayed'])"
   ]
  },
  {
   "cell_type": "markdown",
   "metadata": {},
   "source": [
    "## Lastly lets explore the differences between the two user groups when it comes to visited pages  "
   ]
  },
  {
   "cell_type": "code",
   "execution_count": 29,
   "metadata": {},
   "outputs": [],
   "source": [
    "# create pandas dataframe of churned and users page counts for easier plotting and devide \n",
    "# by number of users in each group\n",
    "\n",
    "churned_users_page_count = churned_users.groupBy('page').count().toPandas()\n",
    "churned_users_page_count['count'] = churned_users_page_count['count'] /number_churned_users\n",
    "\n",
    "stayed_users_page_count = stayed_users.groupBy('page').count().toPandas()\n",
    "stayed_users_page_count['count'] = stayed_users_page_count['count']/ number_stayed_users\n",
    "\n",
    "# drop 'NextSong' as it is always the most commonly visited page for both groups of users \n",
    "churned_users_page_count = churned_users_page_count[churned_users_page_count['page'] != 'NextSong']\n",
    "stayed_users_page_count = stayed_users_page_count[stayed_users_page_count['page'] != 'NextSong']\n",
    "\n",
    "# rename columns \n",
    "churned_users_page_count = churned_users_page_count.rename(columns = {'count' : 'churned'})\n",
    "stayed_users_page_count = stayed_users_page_count.rename(columns = {'count' : 'stayed'}) "
   ]
  },
  {
   "cell_type": "code",
   "execution_count": 30,
   "metadata": {},
   "outputs": [
    {
     "data": {
      "text/html": [
       "<div>\n",
       "<style scoped>\n",
       "    .dataframe tbody tr th:only-of-type {\n",
       "        vertical-align: middle;\n",
       "    }\n",
       "\n",
       "    .dataframe tbody tr th {\n",
       "        vertical-align: top;\n",
       "    }\n",
       "\n",
       "    .dataframe thead th {\n",
       "        text-align: right;\n",
       "    }\n",
       "</style>\n",
       "<table border=\"1\" class=\"dataframe\">\n",
       "  <thead>\n",
       "    <tr style=\"text-align: right;\">\n",
       "      <th></th>\n",
       "      <th>page</th>\n",
       "      <th>stayed</th>\n",
       "      <th>churned</th>\n",
       "      <th>diff</th>\n",
       "    </tr>\n",
       "  </thead>\n",
       "  <tbody>\n",
       "    <tr>\n",
       "      <th>10</th>\n",
       "      <td>Thumbs Up</td>\n",
       "      <td>47.045113</td>\n",
       "      <td>68.413043</td>\n",
       "      <td>-21.367931</td>\n",
       "    </tr>\n",
       "    <tr>\n",
       "      <th>1</th>\n",
       "      <td>Home</td>\n",
       "      <td>37.285714</td>\n",
       "      <td>55.684783</td>\n",
       "      <td>-18.399068</td>\n",
       "    </tr>\n",
       "    <tr>\n",
       "      <th>3</th>\n",
       "      <td>Roll Advert</td>\n",
       "      <td>11.857143</td>\n",
       "      <td>25.608696</td>\n",
       "      <td>-13.751553</td>\n",
       "    </tr>\n",
       "    <tr>\n",
       "      <th>8</th>\n",
       "      <td>Add to Playlist</td>\n",
       "      <td>24.285714</td>\n",
       "      <td>35.826087</td>\n",
       "      <td>-11.540373</td>\n",
       "    </tr>\n",
       "    <tr>\n",
       "      <th>9</th>\n",
       "      <td>Add Friend</td>\n",
       "      <td>16.255639</td>\n",
       "      <td>22.989130</td>\n",
       "      <td>-6.733491</td>\n",
       "    </tr>\n",
       "    <tr>\n",
       "      <th>0</th>\n",
       "      <td>Thumbs Down</td>\n",
       "      <td>8.609023</td>\n",
       "      <td>15.228261</td>\n",
       "      <td>-6.619238</td>\n",
       "    </tr>\n",
       "    <tr>\n",
       "      <th>4</th>\n",
       "      <td>Logout</td>\n",
       "      <td>11.744361</td>\n",
       "      <td>18.086957</td>\n",
       "      <td>-6.342596</td>\n",
       "    </tr>\n",
       "    <tr>\n",
       "      <th>2</th>\n",
       "      <td>Downgrade</td>\n",
       "      <td>7.443609</td>\n",
       "      <td>11.576087</td>\n",
       "      <td>-4.132478</td>\n",
       "    </tr>\n",
       "    <tr>\n",
       "      <th>11</th>\n",
       "      <td>Help</td>\n",
       "      <td>5.383459</td>\n",
       "      <td>8.021739</td>\n",
       "      <td>-2.638280</td>\n",
       "    </tr>\n",
       "    <tr>\n",
       "      <th>7</th>\n",
       "      <td>Settings</td>\n",
       "      <td>5.744361</td>\n",
       "      <td>8.152174</td>\n",
       "      <td>-2.407813</td>\n",
       "    </tr>\n",
       "    <tr>\n",
       "      <th>12</th>\n",
       "      <td>Upgrade</td>\n",
       "      <td>1.473684</td>\n",
       "      <td>3.293478</td>\n",
       "      <td>-1.819794</td>\n",
       "    </tr>\n",
       "    <tr>\n",
       "      <th>6</th>\n",
       "      <td>About</td>\n",
       "      <td>1.864662</td>\n",
       "      <td>2.684783</td>\n",
       "      <td>-0.820121</td>\n",
       "    </tr>\n",
       "    <tr>\n",
       "      <th>16</th>\n",
       "      <td>Submit Downgrade</td>\n",
       "      <td>0.000000</td>\n",
       "      <td>0.684783</td>\n",
       "      <td>-0.684783</td>\n",
       "    </tr>\n",
       "    <tr>\n",
       "      <th>15</th>\n",
       "      <td>Cancel</td>\n",
       "      <td>0.000000</td>\n",
       "      <td>0.565217</td>\n",
       "      <td>-0.565217</td>\n",
       "    </tr>\n",
       "    <tr>\n",
       "      <th>17</th>\n",
       "      <td>Cancellation Confirmation</td>\n",
       "      <td>0.000000</td>\n",
       "      <td>0.565217</td>\n",
       "      <td>-0.565217</td>\n",
       "    </tr>\n",
       "    <tr>\n",
       "      <th>14</th>\n",
       "      <td>Submit Upgrade</td>\n",
       "      <td>0.488722</td>\n",
       "      <td>1.021739</td>\n",
       "      <td>-0.533017</td>\n",
       "    </tr>\n",
       "    <tr>\n",
       "      <th>5</th>\n",
       "      <td>Save Settings</td>\n",
       "      <td>1.240602</td>\n",
       "      <td>1.576087</td>\n",
       "      <td>-0.335485</td>\n",
       "    </tr>\n",
       "    <tr>\n",
       "      <th>13</th>\n",
       "      <td>Error</td>\n",
       "      <td>1.052632</td>\n",
       "      <td>1.217391</td>\n",
       "      <td>-0.164760</td>\n",
       "    </tr>\n",
       "  </tbody>\n",
       "</table>\n",
       "</div>"
      ],
      "text/plain": [
       "                         page     stayed    churned       diff\n",
       "10                  Thumbs Up  47.045113  68.413043 -21.367931\n",
       "1                        Home  37.285714  55.684783 -18.399068\n",
       "3                 Roll Advert  11.857143  25.608696 -13.751553\n",
       "8             Add to Playlist  24.285714  35.826087 -11.540373\n",
       "9                  Add Friend  16.255639  22.989130  -6.733491\n",
       "0                 Thumbs Down   8.609023  15.228261  -6.619238\n",
       "4                      Logout  11.744361  18.086957  -6.342596\n",
       "2                   Downgrade   7.443609  11.576087  -4.132478\n",
       "11                       Help   5.383459   8.021739  -2.638280\n",
       "7                    Settings   5.744361   8.152174  -2.407813\n",
       "12                    Upgrade   1.473684   3.293478  -1.819794\n",
       "6                       About   1.864662   2.684783  -0.820121\n",
       "16           Submit Downgrade   0.000000   0.684783  -0.684783\n",
       "15                     Cancel   0.000000   0.565217  -0.565217\n",
       "17  Cancellation Confirmation   0.000000   0.565217  -0.565217\n",
       "14             Submit Upgrade   0.488722   1.021739  -0.533017\n",
       "5               Save Settings   1.240602   1.576087  -0.335485\n",
       "13                      Error   1.052632   1.217391  -0.164760"
      ]
     },
     "execution_count": 30,
     "metadata": {},
     "output_type": "execute_result"
    }
   ],
   "source": [
    "# merge the two dataframes and calculate the difference between them \n",
    "users_page_count = stayed_users_page_count.merge(churned_users_page_count, how = 'outer', on ='page').fillna(0)\n",
    "users_page_count['diff'] = users_page_count['stayed'] - users_page_count['churned']\n",
    "users_page_count = users_page_count.sort_values(by = 'diff')\n",
    "users_page_count"
   ]
  },
  {
   "cell_type": "code",
   "execution_count": 31,
   "metadata": {},
   "outputs": [
    {
     "data": {
      "text/plain": [
       "<matplotlib.axes._subplots.AxesSubplot at 0x1d652c53408>"
      ]
     },
     "execution_count": 31,
     "metadata": {},
     "output_type": "execute_result"
    },
    {
     "data": {
      "image/png": "[encoded data removed]",
      "text/plain": [
       "<Figure size 432x288 with 1 Axes>"
      ]
     },
     "metadata": {
      "needs_background": "light"
     },
     "output_type": "display_data"
    }
   ],
   "source": [
    "users_page_count.plot.bar(x = 'page', y= ['stayed', 'churned'], title = 'Average page count per user group')"
   ]
  },
  {
   "cell_type": "code",
   "execution_count": 32,
   "metadata": {},
   "outputs": [
    {
     "data": {
      "text/plain": [
       "<matplotlib.axes._subplots.AxesSubplot at 0x1d652d24e48>"
      ]
     },
     "execution_count": 32,
     "metadata": {},
     "output_type": "execute_result"
    },
    {
     "data": {
      "image/png": "[encoded data removed]",
      "text/plain": [
       "<Figure size 432x288 with 1 Axes>"
      ]
     },
     "metadata": {
      "needs_background": "light"
     },
     "output_type": "display_data"
    }
   ],
   "source": [
    "users_page_count.plot.barh(x = 'page', y= ['diff'], title = 'Stayed users count - churned users count')"
   ]
  },
  {
   "cell_type": "markdown",
   "metadata": {},
   "source": [
    "# Check number of missing artist for each group"
   ]
  },
  {
   "cell_type": "code",
   "execution_count": 38,
   "metadata": {},
   "outputs": [
    {
     "name": "stdout",
     "output_type": "stream",
     "text": [
      "missing artists searches/ total churned users: 281.19565217391306\n"
     ]
    }
   ],
   "source": [
    "print('missing artists searches/ total churned users: {}'\\\n",
    "      .format(churned_users.filter(col('artist').isNull()).count()/number_churned_users))"
   ]
  },
  {
   "cell_type": "code",
   "execution_count": 39,
   "metadata": {},
   "outputs": [
    {
     "name": "stdout",
     "output_type": "stream",
     "text": [
      "missing artists searches/ total stayed users: 181.77443609022558\n"
     ]
    }
   ],
   "source": [
    "print('missing artists searches/ total stayed users: {}'\\\n",
    "      .format(stayed_users.filter(col('artist').isNull()).count()/number_stayed_users))"
   ]
  },
  {
   "cell_type": "code",
   "execution_count": 36,
   "metadata": {},
   "outputs": [
    {
     "name": "stdout",
     "output_type": "stream",
     "text": [
      "+------+--------------+\n",
      "|userId|missing_artist|\n",
      "+------+--------------+\n",
      "|100010|           106|\n",
      "|200002|            87|\n",
      "|   125|             3|\n",
      "|    51|           353|\n",
      "|   124|           746|\n",
      "|     7|            51|\n",
      "|    54|           596|\n",
      "|    15|           364|\n",
      "|   155|           182|\n",
      "|   132|           376|\n",
      "|   154|            34|\n",
      "|100014|            53|\n",
      "|   101|           352|\n",
      "|    11|           201|\n",
      "|   138|           399|\n",
      "|300017|           796|\n",
      "|    29|           575|\n",
      "|    69|           217|\n",
      "|100021|            89|\n",
      "|    42|           684|\n",
      "+------+--------------+\n",
      "only showing top 20 rows\n",
      "\n"
     ]
    }
   ],
   "source": [
    "data.filter(col('artist').isNull()).groupby('userId').count()\\\n",
    ".withColumnRenamed('count', 'missing_artist').show()"
   ]
  },
  {
   "cell_type": "markdown",
   "metadata": {},
   "source": [
    "## Extract feature data and create machine learning model input \n",
    "\n",
    "Now that we are done with the analysis, we can clearly see a correlation between the pages a user uses and the churn rate."
   ]
  },
  {
   "cell_type": "code",
   "execution_count": 40,
   "metadata": {},
   "outputs": [],
   "source": [
    "\n",
    "def get_agg_page_df(data): \n",
    "    '''\n",
    "    input: RDD dataset\n",
    "\n",
    "    output: user-page interaction count dataframe \n",
    "\n",
    "    description: \n",
    "    Calculates the number of times each user interacts with each page \n",
    "    and outputs a dataframe with the most interesting pages as columns, \n",
    "    userId as index and and count as values. \n",
    "    intersting_pages = ['userId', 'Error', 'Help', 'Home', \n",
    "                        'Logout', 'NextSong', 'Roll Advert',\n",
    "                        'Thumbs Down', 'Thumbs Up', 'Add to Playlist']\n",
    "    \n",
    "    '''\n",
    "    # Create a dataframe with the count of each page during each session\n",
    "    page_df = data.groupby('userId', 'page').agg({'page' : 'count'})\\\n",
    "        .withColumnRenamed('count(page)', 'page_count')\n",
    "\n",
    "    # unstack the page column \n",
    "    page_df = page_df.groupBy('userId').pivot('page').max('page_count').fillna(0)\n",
    "    \n",
    "    # keep interesting pages only \n",
    "    intersting_pages = ['userId', 'Error', 'Help', 'Home', 'Logout', 'NextSong', 'Roll Advert',\n",
    "                         'Thumbs Down', 'Thumbs Up', 'Add to Playlist']\n",
    "    page_df = page_df.select(intersting_pages)\n",
    "    return page_df \n",
    "\n",
    "def add_columns_per_duration(dataframe, data=data ):\n",
    "    '''\n",
    "    input: feature dataframe \n",
    "\n",
    "    output: column / subscription duration\n",
    "\n",
    "    description: \n",
    "    Calculates how long a user has been using the service and\n",
    "    calculated the interaction frequency for each column and user\n",
    "    per subscription duration. \n",
    "    '''\n",
    "    for page in dataframe.columns[1:]:\n",
    "        column_name = page + '/duration'\n",
    "        dataframe = dataframe.withColumn(column_name, (col(page)/col('duration in hours')).cast('double'))\n",
    "    \n",
    "    return dataframe\n",
    "\n",
    "def add_user_subscription_duration_and_churn(dataframe, data):\n",
    "    '''\n",
    "    input: RDD dataframe \n",
    "\n",
    "    output: subsciption duration dataframe \n",
    "\n",
    "    description: \n",
    "    Calculates how long a user has been using the service in\n",
    "    hours\n",
    "    and adds churn column.\n",
    "    '''\n",
    "    time_df = data.groupby('userId', 'sessionId', 'churn')\\\n",
    "    .agg(min(col('date')).alias('sessionStart'), max(col('date')).alias('sessionEnd'))\\\n",
    "    .withColumn('duration in hours', (col('sessionEnd').cast('long')- col('sessionStart').cast('double'))/360)\n",
    "    \n",
    "    duration_agg_df = time_df.groupBy('userId').agg(Fsum('duration in hours').alias('duration in hours'), \n",
    "                                               max('churn').alias('churn'))\n",
    "    \n",
    "    dataframe = dataframe.join(duration_agg_df, on = ['userId'], how = 'inner')\n",
    "    \n",
    "    return dataframe\n",
    "\n",
    "\n",
    "# every entry has a page value nr_entries = nr_pages visited\n",
    "def add_column_for_total_entry_count(dataframe, data = data):\n",
    "    total_entries = data.groupBy('userId').count().withColumnRenamed('count', 'activity')\n",
    "    dataframe = dataframe.join(total_entries, on = ['userId'], how = 'inner')\n",
    "    return dataframe\n",
    "\n",
    "def add_session_number_column(dataframe, data = data):\n",
    "    total_sessions = data.groupBy('userId').agg(count('sessionId').alias('nr_sessions'))\n",
    "    dataframe = dataframe.join(total_sessions, on = ['userId'], how = 'inner')\n",
    "    return dataframe\n",
    "\n",
    "def add_column_for_total_missing_artist(dataframe, data = data):\n",
    "    missing_artists_count = data.filter(col('artist').isNull()).groupby('userId').count()\\\n",
    "            .withColumnRenamed('count', 'missing_artist')\n",
    "    dataframe = dataframe.join(missing_artists_count, on = ['userId'], how = 'outer').fillna(0)\n",
    "    return dataframe\n",
    "    \n",
    "def get_feature_df(data): \n",
    "    '''\n",
    "    input: dataframe  \n",
    "\n",
    "    output: complete feature dataframe\n",
    "\n",
    "    description: \n",
    "    Creates dataframe with relevent features for a machine learning \n",
    "    classification usage. \n",
    "    '''\n",
    "    page_feature = get_agg_page_df(data)\n",
    "    feature_df = add_user_subscription_duration_and_churn(page_feature, data)\n",
    "    feature_df = add_session_number_column(feature_df, data)\n",
    "    feature_df = add_column_for_total_missing_artist(feature_df, data)\n",
    "    feature_df = add_column_for_total_entry_count(feature_df, data)\n",
    "    feature_df = add_columns_per_duration(feature_df, data=data )\n",
    "    return feature_df.drop('sessionId') \n",
    "\n",
    "feature_df = get_feature_df(data)"
   ]
  },
  {
   "cell_type": "code",
   "execution_count": 41,
   "metadata": {},
   "outputs": [],
   "source": [
    "# drop userId as it is not a relevent feature. \n",
    "feature_df = feature_df.drop('userId')"
   ]
  },
  {
   "cell_type": "code",
   "execution_count": 42,
   "metadata": {},
   "outputs": [
    {
     "data": {
      "text/plain": [
       "['Error',\n",
       " 'Help',\n",
       " 'Home',\n",
       " 'Logout',\n",
       " 'NextSong',\n",
       " 'Roll Advert',\n",
       " 'Thumbs Down',\n",
       " 'Thumbs Up',\n",
       " 'Add to Playlist',\n",
       " 'duration in hours',\n",
       " 'churn',\n",
       " 'nr_sessions',\n",
       " 'missing_artist',\n",
       " 'activity',\n",
       " 'Error/duration',\n",
       " 'Help/duration',\n",
       " 'Home/duration',\n",
       " 'Logout/duration',\n",
       " 'NextSong/duration',\n",
       " 'Roll Advert/duration',\n",
       " 'Thumbs Down/duration',\n",
       " 'Thumbs Up/duration',\n",
       " 'Add to Playlist/duration',\n",
       " 'duration in hours/duration',\n",
       " 'churn/duration',\n",
       " 'nr_sessions/duration',\n",
       " 'missing_artist/duration',\n",
       " 'activity/duration']"
      ]
     },
     "execution_count": 42,
     "metadata": {},
     "output_type": "execute_result"
    }
   ],
   "source": [
    "# final dataset columns \n",
    "feature_df.columns"
   ]
  },
  {
   "cell_type": "markdown",
   "metadata": {},
   "source": [
    "# Predicting Churn with Machine Learning \n",
    "Split the full dataset into train, test, and validation sets. Test out several of the machine learning methods you learned. Evaluate the accuracy of the various models, tuning parameters as necessary. Determine your winning model based on test accuracy and report results on the validation set. Since the churned users are a fairly small subset, I suggest using F1 score as the metric to optimize."
   ]
  },
  {
   "cell_type": "code",
   "execution_count": 43,
   "metadata": {},
   "outputs": [],
   "source": [
    "# rescale columns\n",
    "def prepare_feature_df_for_ML(feature_df = feature_df):\n",
    "    label_column = 'label'\n",
    "    feature_df = feature_df.withColumnRenamed('churn', 'label')\n",
    "    feature_columns = feature_df.columns\n",
    "    feature_columns.remove(label_column)\n",
    "\n",
    "    # define assembler to get feature vector\n",
    "    assembler = VectorAssembler(inputCols=feature_columns, outputCol='features_vector')\n",
    "\n",
    "    # define scaler \n",
    "    scaler = MinMaxScaler(inputCol= 'features_vector', outputCol=('features'))\n",
    "    \n",
    "    # define and fit pipeline\n",
    "    pipeline = Pipeline(stages = [assembler, scaler])\n",
    "    scalerModel = pipeline.fit(feature_df)\n",
    "    \n",
    "    # transorm data\n",
    "    scaledData = scalerModel.transform(feature_df)\n",
    "    \n",
    "    # create final dataset\n",
    "    final_data = scaledData.select('features', 'label')\n",
    "    return final_data\n",
    "\n",
    "final_feature_df = prepare_feature_df_for_ML()\n"
   ]
  },
  {
   "cell_type": "code",
   "execution_count": 44,
   "metadata": {},
   "outputs": [
    {
     "name": "stdout",
     "output_type": "stream",
     "text": [
      "+-----+-----+\n",
      "|label|count|\n",
      "+-----+-----+\n",
      "|    1|   72|\n",
      "|    0|  105|\n",
      "+-----+-----+\n",
      "\n"
     ]
    }
   ],
   "source": [
    "# split data into test and train \n",
    "train, test = final_feature_df.randomSplit([0.75, 0.25])\n",
    "train.groupBy('label').count().show()"
   ]
  },
  {
   "cell_type": "code",
   "execution_count": 45,
   "metadata": {},
   "outputs": [
    {
     "name": "stdout",
     "output_type": "stream",
     "text": [
      "+-----+-----+\n",
      "|label|count|\n",
      "+-----+-----+\n",
      "|    1|   20|\n",
      "|    0|   28|\n",
      "+-----+-----+\n",
      "\n"
     ]
    }
   ],
   "source": [
    "test.groupBy('label').count().show()"
   ]
  },
  {
   "cell_type": "markdown",
   "metadata": {},
   "source": [
    "### Instead of repeating code, lets define some helper functions "
   ]
  },
  {
   "cell_type": "code",
   "execution_count": 46,
   "metadata": {},
   "outputs": [],
   "source": [
    "def setup_model(paramGrid, model):\n",
    "    # leaving the test data to be used for validation\n",
    "    tvs = CrossValidator(estimator=model,\n",
    "                         estimatorParamMaps=paramGrid,\n",
    "                         evaluator = BinaryClassificationEvaluator(),\n",
    "                         numFolds = 3)\n",
    "    return tvs\n",
    "    \n",
    "def model_train_predict(model, train = train, test = test):\n",
    "    model = model.fit(train)\n",
    "    predictions = model.transform(test).select(\"label\", \"prediction\").toPandas()\n",
    "    \n",
    "    return predictions\n",
    "\n",
    "def print_metrics(predictions):\n",
    "    \n",
    "    # Calculate and print f1, recall and precision scores\n",
    "    y_test = predictions.label\n",
    "    y_pred =  predictions.prediction\n",
    "    f1 = f1_score(y_test, y_pred)\n",
    "    recall = recall_score(y_test, y_pred)\n",
    "    precision = precision_score(y_test, y_pred)\n",
    "    model_metrics = {'f1' : f1, \n",
    "                    'recall': recall,\n",
    "                    'precision': precision}\n",
    "    print('F1-Score: {}, Recall: {}, Precision: {}'.format(f1, recall, precision))\n",
    "    \n",
    "    return model_metrics\n",
    "\n",
    "def plot_confusion_matrix(predictions):\n",
    "    y_test = predictions.label\n",
    "    y_pred =  predictions.prediction\n",
    "    cm = confusion_matrix(y_test, y_pred)\n",
    "    sns.heatmap(cm, annot=True, cmap='Blues')"
   ]
  },
  {
   "cell_type": "markdown",
   "metadata": {},
   "source": [
    "## Logistic regression model \n",
    "\n",
    "Lets train a logistic model on the data and see how well it performs by plotting the summary and confusion matrix. \n",
    "This model will be optimized by varying two parameters: \n",
    "* elasticNetParam: sets the ratio between an L1 and L2 penalty in an elastic net regularization  \n",
    "* regParam: regularization parameter that is applied to the weights of eatch parameter to avoid overfitting"
   ]
  },
  {
   "cell_type": "code",
   "execution_count": 47,
   "metadata": {},
   "outputs": [
    {
     "name": "stdout",
     "output_type": "stream",
     "text": [
      "F1-Score: 0.8947368421052632, Recall: 0.85, Precision: 0.9444444444444444\n"
     ]
    },
    {
     "data": {
      "image/png": "[encoded data removed]",
      "text/plain": [
       "<Figure size 432x288 with 2 Axes>"
      ]
     },
     "metadata": {
      "needs_background": "light"
     },
     "output_type": "display_data"
    }
   ],
   "source": [
    "# initiate model\n",
    "lr_model = LogisticRegression(featuresCol = 'features', labelCol= 'label')\n",
    "\n",
    "# set up parameter grid suited for a regression classifier\n",
    "lr_paramGrid = ParamGridBuilder()\\\n",
    "    .addGrid(lr_model.elasticNetParam, [0, 0.5, 1])\\\n",
    "    .addGrid(lr_model.regParam, [0.1, 0.01])\\\n",
    "    .addGrid(lr_model.maxIter, [50, 100, 200])\\\n",
    "    .build()\n",
    "\n",
    "# setup model\n",
    "lr_model = setup_model(paramGrid = lr_paramGrid, model = lr_model )\n",
    "\n",
    "# train model and get predictions for test data set\n",
    "lr_predictions = model_train_predict(lr_model)\n",
    "\n",
    "# evaluate model \n",
    "print_metrics(lr_predictions)\n",
    "plot_confusion_matrix(lr_predictions)"
   ]
  },
  {
   "cell_type": "markdown",
   "metadata": {},
   "source": [
    "## Support Vector Machine "
   ]
  },
  {
   "cell_type": "code",
   "execution_count": 49,
   "metadata": {},
   "outputs": [
    {
     "name": "stdout",
     "output_type": "stream",
     "text": [
      "F1-Score: 0.6, Recall: 0.45, Precision: 0.9\n"
     ]
    },
    {
     "data": {
      "image/png": "[encoded data removed]",
      "text/plain": [
       "<Figure size 432x288 with 2 Axes>"
      ]
     },
     "metadata": {
      "needs_background": "light"
     },
     "output_type": "display_data"
    }
   ],
   "source": [
    "# train test a linear support vector machine classifier \n",
    "svm_model = LinearSVC(featuresCol = 'features', labelCol= 'label')\n",
    "\n",
    "# define parameters that can be optimized\n",
    "svm_paramGrid = ParamGridBuilder()\\\n",
    "        .addGrid(svm_model.maxIter, [50, 100])\\\n",
    "        .addGrid(svm_model.regParam, [0.1, 1.0])\\\n",
    "        .build()\n",
    "\n",
    "# setup model\n",
    "svm_model = setup_model(paramGrid = svm_paramGrid, model = svm_model )\n",
    "\n",
    "# train model and get predictions for test data set\n",
    "svm_predictions = model_train_predict(svm_model)\n",
    "\n",
    "# evaluate model \n",
    "print_metrics(svm_predictions)\n",
    "plot_confusion_matrix(svm_predictions)"
   ]
  },
  {
   "cell_type": "markdown",
   "metadata": {},
   "source": [
    "# Conclusion \n",
    "\n",
    "This projects aims at understanding and predicting churn in a small user dataset by using Apache Spark's analyrics engine and its powerful libraries.\n",
    "The project goes through the different technical steps of the CRISP DM process starting with data understanding, followed by feature extraction, modeling and finally evaluation. \n",
    " \n",
    "Using the methods presented in this jupyter-notebook, and the best performing model which is the logistic reression classifier, we are able to correctly identify 85% of unhappy users and offer them discounts or rewards to keep their subscriptions. Furthermore, with the high precision score 94.5% achieved by the model , we are able to save money by avoiding giving out offers to already happy and staying customers.\n",
    "Future work can include adding a location feature to include the influence of internet connection quality on churn as well as trying out other machine learning models such as Random Forest classifiers.\n"
   ]
  }
 ],
 "metadata": {
  "kernelspec": {
   "display_name": "Python 3",
   "language": "python",
   "name": "python3"
  },
  "language_info": {
   "codemirror_mode": {
    "name": "ipython",
    "version": 3
   },
   "file_extension": ".py",
   "mimetype": "text/x-python",
   "name": "python",
   "nbconvert_exporter": "python",
   "pygments_lexer": "ipython3",
   "version": "3.7.6-final"
  }
 },
 "nbformat": 4,
 "nbformat_minor": 2
}